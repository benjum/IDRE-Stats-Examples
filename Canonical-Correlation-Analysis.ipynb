{
 "cells": [
  {
   "cell_type": "markdown",
   "metadata": {},
   "source": [
    "# CANONICAL CORRELATION ANALYSIS | R DATA ANALYSIS EXAMPLES\n",
    "\n",
    "*A reproduction of UCLA IDRE Stat's https://stats.idre.ucla.edu/r/dae/canonical-correlation-analysis/*"
   ]
  },
  {
   "cell_type": "markdown",
   "metadata": {},
   "source": [
    "Canonical correlation analysis is used to identify and measure the associations among two sets of variables. Canonical correlation is appropriate in the same situations where multiple regression would be, but where are there are multiple intercorrelated outcome variables. Canonical correlation analysis determines a set of canonical variates, orthogonal linear combinations of the variables within each set that best explain the variability both within and between sets.\n",
    "\n",
    "This page uses the following packages. Make sure that you can load them before trying to run the examples on this page. If you do not have a package installed, run: `install.packages(\"packagename\")`, or if you see the version is out of date, run: `update.packages()`."
   ]
  },
  {
   "cell_type": "code",
   "execution_count": null,
   "metadata": {},
   "outputs": [],
   "source": [
    "# install.packages(\"ggplot2\")\n",
    "# install.packages(\"GGally\")\n",
    "# install.packages(\"CCA\")\n",
    "# install.packages(\"CCP\")\n",
    "require(ggplot2)\n",
    "require(GGally)\n",
    "require(CCA)\n",
    "require(CCP)"
   ]
  },
  {
   "cell_type": "code",
   "execution_count": null,
   "metadata": {},
   "outputs": [],
   "source": [
    "# This notebook has been tested with R 3.4.1; ggplot2 3.1.0; GGally 1.4.0; CCA 1.2; CCP 1.1\n",
    "# getRversion()\n",
    "# packageVersion('ggplot2')\n",
    "# packageVersion('GGally')\n",
    "# packageVersion('CCA')\n",
    "# packageVersion('CCP')"
   ]
  },
  {
   "cell_type": "markdown",
   "metadata": {},
   "source": [
    "**Please Note:** The purpose of this page is to show how to use various data analysis commands. It does not cover all aspects of the research process which researchers are expected to do. In particular, it does not cover data cleaning and checking, verification of assumptions, model diagnostics and potential follow-up analyses."
   ]
  },
  {
   "cell_type": "markdown",
   "metadata": {},
   "source": [
    "## Examples of canonical correlation analysis\n",
    "\n",
    "Example 1. A researcher has collected data on three psychological variables, four academic variables (standardized test scores) and gender for 600 college freshman. She is interested in how the set of psychological variables relates to the academic variables and gender. In particular, the researcher is interested in how many dimensions (canonical variables) are necessary to understand the association between the two sets of variables.\n",
    "\n",
    "Example 2. A researcher is interested in exploring associations among factors from two multidimensional personality tests, the MMPI and the NEO. She is interested in what dimensions are common between the tests and how much variance is shared between them. She is specifically interested in finding whether the neuroticism dimension from the NEO can account for a substantial amount of shared variance between the two tests."
   ]
  },
  {
   "cell_type": "markdown",
   "metadata": {},
   "source": [
    "## Description of the data\n",
    "\n",
    "For our analysis example, we are going to expand example 1 about investigating the associations between psychological measures and academic achievement measures.\n",
    "\n",
    "We have a data file, mmreg.dta, with 600 observations on eight variables. The psychological variables are `locus_of_control`, `self_concept` and `motivation`. The academic variables are standardized tests in reading (`read`), writing (`write`), math (`math`) and science (`science`). Additionally, the variable `female` is a zero-one indicator variable with the one indicating a female student."
   ]
  },
  {
   "cell_type": "code",
   "execution_count": null,
   "metadata": {},
   "outputs": [],
   "source": [
    "mm <- read.csv(\"https://stats.idre.ucla.edu/stat/data/mmreg.csv\")\n",
    "colnames(mm) <- c(\"Control\", \"Concept\", \"Motivation\", \"Read\", \"Write\", \"Math\", \n",
    "    \"Science\", \"Sex\")\n",
    "summary(mm)"
   ]
  },
  {
   "cell_type": "markdown",
   "metadata": {},
   "source": [
    "## Analysis methods you might consider\n",
    "\n",
    "Below is a list of some analysis methods you may have encountered. Some of the methods listed are quite reasonable while others have either fallen out of favor or have limitations.\n",
    "\n",
    "* Canonical correlation analysis, the focus of this page.\n",
    "* Separate OLS Regressions – You could analyze these data using separate OLS regression analyses for each variable in one set. The OLS regressions will not produce multivariate results and does not report information concerning dimensionality.\n",
    "* Multivariate multiple regression is a reasonable option if you have no interest in dimensionality."
   ]
  },
  {
   "cell_type": "markdown",
   "metadata": {},
   "source": [
    "## Canonical correlation analysis\n",
    "\n",
    "Below we use the `canon` command to conduct a canonical correlation analysis. It requires two sets of variables enclosed with a pair of parentheses. We specify our psychological variables as the first set of variables and our academic variables plus gender as the second set. For convenience, the variables in the first set are called “u” variables and the variables in the second set are called “v” variables.\n",
    "\n",
    "Let’s look at the data."
   ]
  },
  {
   "cell_type": "code",
   "execution_count": null,
   "metadata": {},
   "outputs": [],
   "source": [
    "xtabs(~Sex, data = mm)"
   ]
  },
  {
   "cell_type": "code",
   "execution_count": null,
   "metadata": {},
   "outputs": [],
   "source": [
    "psych <- mm[, 1:3]\n",
    "acad <- mm[, 4:8]\n",
    "\n",
    "ggpairs(psych)"
   ]
  },
  {
   "cell_type": "code",
   "execution_count": null,
   "metadata": {},
   "outputs": [],
   "source": [
    "ggpairs(acad)"
   ]
  },
  {
   "cell_type": "markdown",
   "metadata": {},
   "source": [
    "For more information about GGally including packages such as `ggduo()` you can look [here](http://ggobi.github.io/ggally/#canonical_correlation_analysis). Next, we’ll look at the correlations within and between the two sets of variables using the `matcor` function from the CCA package."
   ]
  },
  {
   "cell_type": "code",
   "execution_count": null,
   "metadata": {},
   "outputs": [],
   "source": [
    "# correlations\n",
    "matcor(psych, acad)"
   ]
  },
  {
   "cell_type": "markdown",
   "metadata": {},
   "source": [
    "## Some Strategies You Might Be Tempted To Try\n",
    "\n",
    "Before we show how you can analyze this with a canonical correlation analysis, let’s consider some other methods that you might use.\n",
    "\n",
    "* Separate OLS Regressions – You could analyze these data using separate OLS regression analyses for each variable in one set. The OLS regressions will not produce multivariate results and does not report information concerning dimensionality.\n",
    "* Multivariate multiple regression is a reasonable option if you have no interest in dimensionality."
   ]
  },
  {
   "cell_type": "markdown",
   "metadata": {},
   "source": [
    "## R Canonical Correlation Analysis\n",
    "\n",
    "Due to the length of the output, we will be making comments in several places along the way."
   ]
  },
  {
   "cell_type": "code",
   "execution_count": null,
   "metadata": {},
   "outputs": [],
   "source": [
    "cc1 <- cc(psych, acad)\n",
    "\n",
    "# display the canonical correlations\n",
    "cc1$cor"
   ]
  },
  {
   "cell_type": "code",
   "execution_count": null,
   "metadata": {},
   "outputs": [],
   "source": [
    "# raw canonical coefficients\n",
    "cc1[3:4]"
   ]
  },
  {
   "cell_type": "markdown",
   "metadata": {},
   "source": [
    "The raw canonical coefficients are interpreted in a manner analogous to interpreting regression coefficients i.e., for the variable `read`, a one unit increase in reading leads to a .0446 decrease in the first canonical variate of set 2 when all of the other variables are held constant. Here is another example: being female leads to a .6321 decrease in the dimension 1 for the academic set with the other predictors held constant.\n",
    "\n",
    "Next, we’ll use `comput` to compute the loadings of the variables on the canonical dimensions (variates). These loadings are correlations between variables and the canonical variates."
   ]
  },
  {
   "cell_type": "code",
   "execution_count": null,
   "metadata": {},
   "outputs": [],
   "source": [
    "# compute canonical loadings\n",
    "cc2 <- comput(psych, acad, cc1)\n",
    "\n",
    "# display canonical loadings\n",
    "cc2[3:6]"
   ]
  },
  {
   "cell_type": "markdown",
   "metadata": {},
   "source": [
    "The above correlations are between observed variables and canonical variables which are known as the canonical loadings. These canonical variates are actually a type of latent variable.\n",
    "\n",
    "In general, the number of canonical dimensions is equal to the number of variables in the smaller set; however, the number of significant dimensions may be even smaller. Canonical dimensions, also known as canonical variates, are latent variables that are analogous to factors obtained in factor analysis. For this particular model there are three canonical dimensions of which only the first two are statistically significant. (Note: I was not able to find a way to have R automatically compute the tests of the canonical dimensions in any of the packages so I have included some R code below.)"
   ]
  },
  {
   "cell_type": "code",
   "execution_count": null,
   "metadata": {},
   "outputs": [],
   "source": [
    "# tests of canonical dimensions\n",
    "rho <- cc1$cor\n",
    "## Define number of observations, number of variables in first set, and number of variables in the second set.\n",
    "n <- dim(psych)[1]\n",
    "p <- length(psych)\n",
    "q <- length(acad)\n",
    "\n",
    "## Calculate p-values using the F-approximations of different test statistics:\n",
    "p.asym(rho, n, p, q, tstat = \"Wilks\")"
   ]
  },
  {
   "cell_type": "code",
   "execution_count": null,
   "metadata": {},
   "outputs": [],
   "source": [
    "p.asym(rho, n, p, q, tstat = \"Hotelling\")"
   ]
  },
  {
   "cell_type": "code",
   "execution_count": null,
   "metadata": {},
   "outputs": [],
   "source": [
    "p.asym(rho, n, p, q, tstat = \"Pillai\")"
   ]
  },
  {
   "cell_type": "code",
   "execution_count": null,
   "metadata": {},
   "outputs": [],
   "source": [
    "p.asym(rho, n, p, q, tstat = \"Roy\")"
   ]
  },
  {
   "cell_type": "markdown",
   "metadata": {},
   "source": [
    "As shown in the table above, the first test of the canonical dimensions tests whether all three dimensions are significant (they are, F = 11.72), the next test tests whether dimensions 2 and 3 combined are significant (they are, F = 2.94). Finally, the last test tests whether dimension 3, by itself, is significant (it is not). Therefore dimensions 1 and 2 must each be significant while dimension three is not.\n",
    "\n",
    "When the variables in the model have very different standard deviations, the standardized coefficients allow for easier comparisons among the variables. Next, we’ll compute the standardized canonical coefficients."
   ]
  },
  {
   "cell_type": "code",
   "execution_count": null,
   "metadata": {},
   "outputs": [],
   "source": [
    "# standardized psych canonical coefficients diagonal matrix of psych sd's\n",
    "s1 <- diag(sqrt(diag(cov(psych))))\n",
    "s1 %*% cc1$xcoef"
   ]
  },
  {
   "cell_type": "code",
   "execution_count": null,
   "metadata": {},
   "outputs": [],
   "source": [
    "# standardized acad canonical coefficients diagonal matrix of acad sd's\n",
    "s2 <- diag(sqrt(diag(cov(acad))))\n",
    "s2 %*% cc1$ycoef"
   ]
  },
  {
   "cell_type": "markdown",
   "metadata": {},
   "source": [
    "The standardized canonical coefficients are interpreted in a manner analogous to interpreting standardized regression coefficients. For example, consider the variable `read`, a one standard deviation increase in reading leads to a 0.45 standard deviation decrease in the score on the first canonical variate for set 2 when the other variables in the model are held constant."
   ]
  },
  {
   "cell_type": "markdown",
   "metadata": {},
   "source": [
    "## Sample Write-Up of the Analysis\n",
    "\n",
    "There is a lot of variation in the write-ups of canonical correlation analyses. The write-up below is fairly minimal, including only the tests of dimensionality and the standardized coefficients.\n",
    "\n",
    "### Table 1: Tests of Canonical Dimensions.  Canonical  Mult.\n",
    "\n",
    "| Dimension  |   Corr.   |   F  |  df1  |  df2   |   p |\n",
    "|:----:| :---: | :---: | :---: | :---: | :---: |\n",
    "|     1     |      0.46    |   11.72  |   15   |  1634.7 | 0.0000 |\n",
    "|   2    |     0.17   |   2.94  |  8 |  1186  |  0.0029 |\n",
    "|   3    |     0.10  |    2.16  |  3 |   594  |  0.0911 |\n",
    "\n",
    "### Table 2: Standardized Canonical Coefficients\n",
    "\n",
    "| Psychological Variables | Dimension 1 | Dimension 2 |\n",
    "| --- | --- | --- |\n",
    "|    locus of control  |  -0.84  |   -0.42 |\n",
    "|    self-concept      |   0.25  |   -0.84 |\n",
    "|    motivation        |  -0.43  |    0.69 |\n",
    "\n",
    "| Academic Variables plus Gender | Dimension 1 | Dimension 2 |\n",
    "| --- | --- | --- |\n",
    "|    reading           |  -0.45  |   -0.05 |\n",
    "|    writing           |  -0.35  |    0.41 |\n",
    "|    math              |  -0.22  |    0.04 |\n",
    "|    science           |  -0.05  |   -0.83 |\n",
    "|    gender (female=1) |  -0.32  |    0.54 |\n",
    "\n",
    "Tests of dimensionality for the canonical correlation analysis, as shown in Table 1, indicate that two of the three canonical dimensions are statistically significant at the .05 level. Dimension 1 had a canonical correlation of 0.46 between the sets of variables, while for dimension 2 the canonical correlation was much lower at 0.17.\n",
    "\n",
    "Table 2 presents the standardized canonical coefficients for the first two dimensions across both sets of variables. For the psychological variables, the first canonical dimension is most strongly influenced by locus of control (.84) and for the second dimension self-concept (-.84) and motivation (.69). For the academic variables plus gender, the first dimension was comprised of reading (.45), writing (.35) and gender (.32). For the second dimension writing (.41), science (-.83) and gender (.54) were the dominating variables."
   ]
  },
  {
   "cell_type": "markdown",
   "metadata": {},
   "source": [
    "## Cautions, Flies in the Ointment\n",
    "\n",
    "* Multivatiate normal distribution assumptions are required for both sets of variables.\n",
    "* Canonical correlation analysis is not recommended for small samples."
   ]
  },
  {
   "cell_type": "markdown",
   "metadata": {},
   "source": [
    "## R Documentation\n",
    "\n",
    "* [CCA Package](https://cran.r-project.org/web/packages/CCA/CCA.pdf)\n",
    "* [CCP Package](https://cran.r-project.org/web/packages/CCP/CCP.pdf)"
   ]
  },
  {
   "cell_type": "markdown",
   "metadata": {},
   "source": [
    "## References\n",
    "\n",
    "* Afifi, A, Clark, V and May, S. 2004. *Computer-Aided Multivariate Analysis*. 4th ed. Boca Raton, Fl: Chapman & Hall/CRC."
   ]
  }
 ],
 "metadata": {
  "kernelspec": {
   "display_name": "R",
   "language": "R",
   "name": "ir"
  },
  "language_info": {
   "codemirror_mode": "r",
   "file_extension": ".r",
   "mimetype": "text/x-r-source",
   "name": "R",
   "pygments_lexer": "r",
   "version": "3.4.1"
  }
 },
 "nbformat": 4,
 "nbformat_minor": 2
}
